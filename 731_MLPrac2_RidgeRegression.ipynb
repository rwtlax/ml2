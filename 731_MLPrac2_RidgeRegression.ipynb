{
 "cells": [
  {
   "cell_type": "markdown",
   "id": "32526112",
   "metadata": {},
   "source": [
    "# Aim : Implementation of L2 Regularization "
   ]
  },
  {
   "cell_type": "code",
   "execution_count": 1,
   "id": "9ec4383c",
   "metadata": {},
   "outputs": [],
   "source": [
    "from sklearn.datasets import make_regression"
   ]
  },
  {
   "cell_type": "code",
   "execution_count": 2,
   "id": "d512103a",
   "metadata": {
    "scrolled": true
   },
   "outputs": [
    {
     "data": {
      "text/plain": [
       "array([[-8.78107893e-01],\n",
       "       [ 1.35963386e+00],\n",
       "       [ 1.64027081e+00],\n",
       "       [ 5.42352572e-01],\n",
       "       [ 8.24703005e-01],\n",
       "       [-5.96159700e-01],\n",
       "       [-5.62668272e-02],\n",
       "       [-1.32328898e-01],\n",
       "       [-2.43476758e+00],\n",
       "       [-4.03892269e-01],\n",
       "       [ 3.81866234e-01],\n",
       "       [ 1.36723542e+00],\n",
       "       [-7.47870949e-01],\n",
       "       [-3.81516482e-01],\n",
       "       [ 8.42456282e-01],\n",
       "       [-7.72186654e-02],\n",
       "       [ 4.33496330e-01],\n",
       "       [-2.17135269e-01],\n",
       "       [ 1.46767801e+00],\n",
       "       [ 1.12726505e-01],\n",
       "       [ 1.73118467e+00],\n",
       "       [-3.35677339e-01],\n",
       "       [-1.09873895e+00],\n",
       "       [-8.41747366e-01],\n",
       "       [ 5.66275441e-01],\n",
       "       [-1.05795222e+00],\n",
       "       [ 6.95119605e-01],\n",
       "       [ 5.39058321e-01],\n",
       "       [ 5.01857207e-01],\n",
       "       [-1.43943903e+00],\n",
       "       [-1.89469265e-01],\n",
       "       [-7.44707629e-02],\n",
       "       [-1.79343559e+00],\n",
       "       [ 2.23136679e+00],\n",
       "       [ 4.15393930e-02],\n",
       "       [ 1.17353150e+00],\n",
       "       [-1.38451867e+00],\n",
       "       [ 2.16116006e-01],\n",
       "       [-9.14526229e-02],\n",
       "       [ 1.27837923e+00],\n",
       "       [-2.13619610e+00],\n",
       "       [-2.36184031e-01],\n",
       "       [-1.85861239e+00],\n",
       "       [ 3.26003433e-01],\n",
       "       [ 9.76147160e-06],\n",
       "       [-3.75669423e-01],\n",
       "       [ 1.04082395e+00],\n",
       "       [-3.38821966e-01],\n",
       "       [-6.77675577e-01],\n",
       "       [ 1.21788563e+00],\n",
       "       [-1.24528809e+00],\n",
       "       [-8.29135289e-01],\n",
       "       [-4.19316482e-01],\n",
       "       [ 3.80471970e-01],\n",
       "       [-1.86809065e+00],\n",
       "       [ 1.58448706e+00],\n",
       "       [ 6.11340780e-01],\n",
       "       [ 1.00036589e+00],\n",
       "       [-9.09007615e-01],\n",
       "       [-3.95702397e-02],\n",
       "       [-1.91304965e-02],\n",
       "       [-1.42121723e+00],\n",
       "       [ 3.50888494e-01],\n",
       "       [-9.88779049e-01],\n",
       "       [ 4.62555231e-02],\n",
       "       [-3.81092518e-01],\n",
       "       [ 7.35279576e-01],\n",
       "       [-6.37655012e-01],\n",
       "       [-2.65944946e+00],\n",
       "       [-4.16757847e-01],\n",
       "       [ 2.56570452e-01],\n",
       "       [ 3.70444537e-01],\n",
       "       [-6.34679305e-01],\n",
       "       [ 4.79705919e-02],\n",
       "       [-2.34360319e+00],\n",
       "       [ 5.08396243e-01],\n",
       "       [-6.53250268e-01],\n",
       "       [-8.44213704e-01],\n",
       "       [-4.62005348e-01],\n",
       "       [ 2.04207979e-01],\n",
       "       [ 5.02881417e-01],\n",
       "       [-2.69056960e-01],\n",
       "       [-1.11792545e+00],\n",
       "       [ 5.24296430e-01],\n",
       "       [ 8.77102184e-02],\n",
       "       [ 5.51454045e-01],\n",
       "       [-2.03346655e+00],\n",
       "       [-3.13508197e-01],\n",
       "       [ 1.17500122e+00],\n",
       "       [ 6.64890091e-02],\n",
       "       [ 1.24821292e+00],\n",
       "       [-1.18761229e+00],\n",
       "       [ 1.40669624e+00],\n",
       "       [-1.56434170e-01],\n",
       "       [ 2.29220801e+00],\n",
       "       [-1.73795950e+00],\n",
       "       [-2.04032305e+00],\n",
       "       [ 7.71011738e-01],\n",
       "       [ 9.02525097e-03],\n",
       "       [-1.53495196e-01]])"
      ]
     },
     "execution_count": 2,
     "metadata": {},
     "output_type": "execute_result"
    }
   ],
   "source": [
    "x,y = make_regression(n_samples=100,noise=20,n_features=1,random_state=2,n_targets=1)\n",
    "x"
   ]
  },
  {
   "cell_type": "code",
   "execution_count": 3,
   "id": "14a00717",
   "metadata": {
    "scrolled": true
   },
   "outputs": [
    {
     "data": {
      "text/plain": [
       "array([ -39.28111368,   60.36088967,   75.52329534,   44.96973636,\n",
       "         67.66126148,  -72.56783539,   19.01828591,  -22.48725552,\n",
       "       -142.24576438,  -15.18039423,   30.97837048,   96.49616637,\n",
       "        -32.18524905,   -2.73343352,   51.91525767,    3.15477977,\n",
       "         59.67514565,  -39.18356672,   77.51342439,    2.12711018,\n",
       "         46.68645147,  -19.761177  ,  -48.75839881,  -64.53825927,\n",
       "         28.77572075,  -64.91364323,   19.42416802,   27.95857927,\n",
       "         47.08740928,  -84.85367831,   -5.27930487,    1.63049652,\n",
       "        -49.65719062,  115.44179673,  -15.90690036,   84.79331953,\n",
       "        -75.6361891 ,    9.44506047,   -1.10256915,   75.29608508,\n",
       "       -123.12209367,   -9.2643982 ,  -89.78307298,    6.92428027,\n",
       "         -1.37114106,  -25.12536695,   86.08123884,  -30.90683686,\n",
       "        -25.0568712 ,   57.12871401,  -59.45098934,  -31.08914872,\n",
       "        -19.63623245,   35.24070197, -105.60242742,  105.79285848,\n",
       "         33.5416947 ,   61.17460846,  -55.74511813,  -20.22825731,\n",
       "         22.61124007,  -98.27810976,    2.51352804,  -48.6592866 ,\n",
       "         -0.80311042,    7.54015095,   82.78973256,  -40.39608706,\n",
       "       -167.01636233,  -16.85774471,   38.07736278,   62.11552806,\n",
       "        -43.76716725,  -21.72322566, -145.21657026,   52.47950288,\n",
       "        -70.08095861,  -81.46341231,  -31.22319839,   31.93634207,\n",
       "          9.80885417,   16.27732067,  -82.0026651 ,   32.12925769,\n",
       "         19.84053667,    4.7638933 , -135.75753122,  -26.07994395,\n",
       "         74.9019179 ,    7.4922353 ,   37.76513716,  -77.51141039,\n",
       "        105.71270776,  -26.05475138,  157.64933729, -120.01528779,\n",
       "       -110.34447888,   19.41625394,  -24.34594172,   -6.97226993])"
      ]
     },
     "execution_count": 3,
     "metadata": {},
     "output_type": "execute_result"
    }
   ],
   "source": [
    "y"
   ]
  },
  {
   "cell_type": "code",
   "execution_count": 4,
   "id": "7d0226ca",
   "metadata": {},
   "outputs": [
    {
     "data": {
      "text/plain": [
       "<function matplotlib.pyplot.show(close=None, block=None)>"
      ]
     },
     "execution_count": 4,
     "metadata": {},
     "output_type": "execute_result"
    },
    {
     "data": {
      "image/png": "[encoded data removed]",
      "text/plain": [
       "<Figure size 432x288 with 1 Axes>"
      ]
     },
     "metadata": {
      "needs_background": "light"
     },
     "output_type": "display_data"
    }
   ],
   "source": [
    "import numpy as np\n",
    "import pandas as pd\n",
    "import matplotlib.pyplot as plt\n",
    "plt.scatter(x,y,c='purple')\n",
    "plt.show"
   ]
  },
  {
   "cell_type": "code",
   "execution_count": 5,
   "id": "93f9a3b0",
   "metadata": {},
   "outputs": [],
   "source": [
    "from sklearn.linear_model import LinearRegression\n",
    "lr = LinearRegression()"
   ]
  },
  {
   "cell_type": "code",
   "execution_count": 6,
   "id": "3c010d9b",
   "metadata": {},
   "outputs": [
    {
     "data": {
      "text/plain": [
       "LinearRegression()"
      ]
     },
     "execution_count": 6,
     "metadata": {},
     "output_type": "execute_result"
    }
   ],
   "source": [
    "lr.fit(x,y)"
   ]
  },
  {
   "cell_type": "code",
   "execution_count": 7,
   "id": "4933ee1c",
   "metadata": {},
   "outputs": [
    {
     "data": {
      "text/plain": [
       "array([58.11865999])"
      ]
     },
     "execution_count": 7,
     "metadata": {},
     "output_type": "execute_result"
    }
   ],
   "source": [
    "lr.coef_ #Magnitude,Coefficient, slope"
   ]
  },
  {
   "cell_type": "code",
   "execution_count": 8,
   "id": "a6e6bf16",
   "metadata": {},
   "outputs": [
    {
     "data": {
      "text/plain": [
       "0.5334392393890015"
      ]
     },
     "execution_count": 8,
     "metadata": {},
     "output_type": "execute_result"
    }
   ],
   "source": [
    "lr.intercept_ #Bias, y_intercept"
   ]
  },
  {
   "cell_type": "code",
   "execution_count": 9,
   "id": "9e097b78",
   "metadata": {},
   "outputs": [],
   "source": [
    "from sklearn.model_selection import train_test_split"
   ]
  },
  {
   "cell_type": "code",
   "execution_count": 10,
   "id": "c6df6ece",
   "metadata": {},
   "outputs": [],
   "source": [
    "x_train,x_test,y_train,y_test = train_test_split(x,y,test_size=0.2)"
   ]
  },
  {
   "cell_type": "markdown",
   "id": "812cd8be",
   "metadata": {},
   "source": [
    "# Ridge Regression"
   ]
  },
  {
   "cell_type": "code",
   "execution_count": 11,
   "id": "7cec98c7",
   "metadata": {},
   "outputs": [],
   "source": [
    "from sklearn.linear_model import Ridge"
   ]
  },
  {
   "cell_type": "code",
   "execution_count": 12,
   "id": "c8021376",
   "metadata": {},
   "outputs": [],
   "source": [
    "rr = Ridge(alpha=10)"
   ]
  },
  {
   "cell_type": "code",
   "execution_count": 13,
   "id": "bcb37a06",
   "metadata": {},
   "outputs": [
    {
     "data": {
      "text/plain": [
       "Ridge(alpha=10)"
      ]
     },
     "execution_count": 13,
     "metadata": {},
     "output_type": "execute_result"
    }
   ],
   "source": [
    "rr.fit(x,y)"
   ]
  },
  {
   "cell_type": "code",
   "execution_count": 14,
   "id": "1ca69832",
   "metadata": {},
   "outputs": [
    {
     "data": {
      "text/plain": [
       "array([53.17425635])"
      ]
     },
     "execution_count": 14,
     "metadata": {},
     "output_type": "execute_result"
    }
   ],
   "source": [
    "rr.coef_"
   ]
  },
  {
   "cell_type": "code",
   "execution_count": 15,
   "id": "21f7b7fb",
   "metadata": {},
   "outputs": [
    {
     "data": {
      "text/plain": [
       "0.020501198988966074"
      ]
     },
     "execution_count": 15,
     "metadata": {},
     "output_type": "execute_result"
    }
   ],
   "source": [
    "rr.intercept_"
   ]
  },
  {
   "cell_type": "code",
   "execution_count": 16,
   "id": "5d2c0cd5",
   "metadata": {},
   "outputs": [
    {
     "name": "stdout",
     "output_type": "stream",
     "text": [
      "[53.17425635]\n",
      "0.020501198988966074\n"
     ]
    }
   ],
   "source": [
    "rrr = Ridge(alpha=10)\n",
    "rrr.fit(x,y)\n",
    "print(rrr.coef_)\n",
    "print(rrr.intercept_)"
   ]
  },
  {
   "cell_type": "code",
   "execution_count": 17,
   "id": "125a7338",
   "metadata": {},
   "outputs": [
    {
     "name": "stdout",
     "output_type": "stream",
     "text": [
      "[30.11564938]\n",
      "-2.3716248342245936\n"
     ]
    }
   ],
   "source": [
    "rrr = Ridge(alpha=100)\n",
    "rrr.fit(x,y)\n",
    "print(rrr.coef_)\n",
    "print(rrr.intercept_)"
   ]
  },
  {
   "cell_type": "code",
   "execution_count": 18,
   "id": "6aa5c703",
   "metadata": {},
   "outputs": [
    {
     "data": {
      "text/plain": [
       "<matplotlib.legend.Legend at 0x26f7114fbb0>"
      ]
     },
     "execution_count": 18,
     "metadata": {},
     "output_type": "execute_result"
    },
    {
     "data": {
      "image/png": "[encoded data removed]",
      "text/plain": [
       "<Figure size 432x288 with 1 Axes>"
      ]
     },
     "metadata": {
      "needs_background": "light"
     },
     "output_type": "display_data"
    }
   ],
   "source": [
    "plt.plot(x,y,'b.')\n",
    "plt.plot(x,lr.predict(x),c='y',label=\"LR line\")\n",
    "plt.plot(x,rr.predict(x),c='r',label=\"alpha=10\")\n",
    "plt.plot(x,rrr.predict(x),c='g',label=\"alpha=100\")\n",
    "plt.legend()"
   ]
  },
  {
   "cell_type": "markdown",
   "id": "339024db",
   "metadata": {},
   "source": [
    "# Aim :  Demonstrate how co-efficient affected by increasing the values of the Lambda(Alpha)"
   ]
  },
  {
   "cell_type": "code",
   "execution_count": 19,
   "id": "4d2b8c47",
   "metadata": {},
   "outputs": [],
   "source": [
    "import numpy as np\n",
    "import pandas as pd \n",
    "import matplotlib.pyplot as plt \n",
    "from sklearn.datasets import load_diabetes"
   ]
  },
  {
   "cell_type": "code",
   "execution_count": 20,
   "id": "391f0a06",
   "metadata": {},
   "outputs": [],
   "source": [
    "data = load_diabetes()"
   ]
  },
  {
   "cell_type": "code",
   "execution_count": 21,
   "id": "6cda92c5",
   "metadata": {
    "scrolled": true
   },
   "outputs": [
    {
     "data": {
      "text/plain": [
       "{'data': array([[ 0.03807591,  0.05068012,  0.06169621, ..., -0.00259226,\n",
       "          0.01990842, -0.01764613],\n",
       "        [-0.00188202, -0.04464164, -0.05147406, ..., -0.03949338,\n",
       "         -0.06832974, -0.09220405],\n",
       "        [ 0.08529891,  0.05068012,  0.04445121, ..., -0.00259226,\n",
       "          0.00286377, -0.02593034],\n",
       "        ...,\n",
       "        [ 0.04170844,  0.05068012, -0.01590626, ..., -0.01107952,\n",
       "         -0.04687948,  0.01549073],\n",
       "        [-0.04547248, -0.04464164,  0.03906215, ...,  0.02655962,\n",
       "          0.04452837, -0.02593034],\n",
       "        [-0.04547248, -0.04464164, -0.0730303 , ..., -0.03949338,\n",
       "         -0.00421986,  0.00306441]]),\n",
       " 'target': array([151.,  75., 141., 206., 135.,  97., 138.,  63., 110., 310., 101.,\n",
       "         69., 179., 185., 118., 171., 166., 144.,  97., 168.,  68.,  49.,\n",
       "         68., 245., 184., 202., 137.,  85., 131., 283., 129.,  59., 341.,\n",
       "         87.,  65., 102., 265., 276., 252.,  90., 100.,  55.,  61.,  92.,\n",
       "        259.,  53., 190., 142.,  75., 142., 155., 225.,  59., 104., 182.,\n",
       "        128.,  52.,  37., 170., 170.,  61., 144.,  52., 128.,  71., 163.,\n",
       "        150.,  97., 160., 178.,  48., 270., 202., 111.,  85.,  42., 170.,\n",
       "        200., 252., 113., 143.,  51.,  52., 210.,  65., 141.,  55., 134.,\n",
       "         42., 111.,  98., 164.,  48.,  96.,  90., 162., 150., 279.,  92.,\n",
       "         83., 128., 102., 302., 198.,  95.,  53., 134., 144., 232.,  81.,\n",
       "        104.,  59., 246., 297., 258., 229., 275., 281., 179., 200., 200.,\n",
       "        173., 180.,  84., 121., 161.,  99., 109., 115., 268., 274., 158.,\n",
       "        107.,  83., 103., 272.,  85., 280., 336., 281., 118., 317., 235.,\n",
       "         60., 174., 259., 178., 128.,  96., 126., 288.,  88., 292.,  71.,\n",
       "        197., 186.,  25.,  84.,  96., 195.,  53., 217., 172., 131., 214.,\n",
       "         59.,  70., 220., 268., 152.,  47.,  74., 295., 101., 151., 127.,\n",
       "        237., 225.,  81., 151., 107.,  64., 138., 185., 265., 101., 137.,\n",
       "        143., 141.,  79., 292., 178.,  91., 116.,  86., 122.,  72., 129.,\n",
       "        142.,  90., 158.,  39., 196., 222., 277.,  99., 196., 202., 155.,\n",
       "         77., 191.,  70.,  73.,  49.,  65., 263., 248., 296., 214., 185.,\n",
       "         78.,  93., 252., 150.,  77., 208.,  77., 108., 160.,  53., 220.,\n",
       "        154., 259.,  90., 246., 124.,  67.,  72., 257., 262., 275., 177.,\n",
       "         71.,  47., 187., 125.,  78.,  51., 258., 215., 303., 243.,  91.,\n",
       "        150., 310., 153., 346.,  63.,  89.,  50.,  39., 103., 308., 116.,\n",
       "        145.,  74.,  45., 115., 264.,  87., 202., 127., 182., 241.,  66.,\n",
       "         94., 283.,  64., 102., 200., 265.,  94., 230., 181., 156., 233.,\n",
       "         60., 219.,  80.,  68., 332., 248.,  84., 200.,  55.,  85.,  89.,\n",
       "         31., 129.,  83., 275.,  65., 198., 236., 253., 124.,  44., 172.,\n",
       "        114., 142., 109., 180., 144., 163., 147.,  97., 220., 190., 109.,\n",
       "        191., 122., 230., 242., 248., 249., 192., 131., 237.,  78., 135.,\n",
       "        244., 199., 270., 164.,  72.,  96., 306.,  91., 214.,  95., 216.,\n",
       "        263., 178., 113., 200., 139., 139.,  88., 148.,  88., 243.,  71.,\n",
       "         77., 109., 272.,  60.,  54., 221.,  90., 311., 281., 182., 321.,\n",
       "         58., 262., 206., 233., 242., 123., 167.,  63., 197.,  71., 168.,\n",
       "        140., 217., 121., 235., 245.,  40.,  52., 104., 132.,  88.,  69.,\n",
       "        219.,  72., 201., 110.,  51., 277.,  63., 118.,  69., 273., 258.,\n",
       "         43., 198., 242., 232., 175.,  93., 168., 275., 293., 281.,  72.,\n",
       "        140., 189., 181., 209., 136., 261., 113., 131., 174., 257.,  55.,\n",
       "         84.,  42., 146., 212., 233.,  91., 111., 152., 120.,  67., 310.,\n",
       "         94., 183.,  66., 173.,  72.,  49.,  64.,  48., 178., 104., 132.,\n",
       "        220.,  57.]),\n",
       " 'frame': None,\n",
       " 'DESCR': '.. _diabetes_dataset:\\n\\nDiabetes dataset\\n----------------\\n\\nTen baseline variables, age, sex, body mass index, average blood\\npressure, and six blood serum measurements were obtained for each of n =\\n442 diabetes patients, as well as the response of interest, a\\nquantitative measure of disease progression one year after baseline.\\n\\n**Data Set Characteristics:**\\n\\n  :Number of Instances: 442\\n\\n  :Number of Attributes: First 10 columns are numeric predictive values\\n\\n  :Target: Column 11 is a quantitative measure of disease progression one year after baseline\\n\\n  :Attribute Information:\\n      - age     age in years\\n      - sex\\n      - bmi     body mass index\\n      - bp      average blood pressure\\n      - s1      tc, total serum cholesterol\\n      - s2      ldl, low-density lipoproteins\\n      - s3      hdl, high-density lipoproteins\\n      - s4      tch, total cholesterol / HDL\\n      - s5      ltg, possibly log of serum triglycerides level\\n      - s6      glu, blood sugar level\\n\\nNote: Each of these 10 feature variables have been mean centered and scaled by the standard deviation times `n_samples` (i.e. the sum of squares of each column totals 1).\\n\\nSource URL:\\nhttps://www4.stat.ncsu.edu/~boos/var.select/diabetes.html\\n\\nFor more information see:\\nBradley Efron, Trevor Hastie, Iain Johnstone and Robert Tibshirani (2004) \"Least Angle Regression,\" Annals of Statistics (with discussion), 407-499.\\n(https://web.stanford.edu/~hastie/Papers/LARS/LeastAngle_2002.pdf)',\n",
       " 'feature_names': ['age',\n",
       "  'sex',\n",
       "  'bmi',\n",
       "  'bp',\n",
       "  's1',\n",
       "  's2',\n",
       "  's3',\n",
       "  's4',\n",
       "  's5',\n",
       "  's6'],\n",
       " 'data_filename': 'C:\\\\ProgramData\\\\Anaconda3\\\\lib\\\\site-packages\\\\sklearn\\\\datasets\\\\data\\\\diabetes_data.csv.gz',\n",
       " 'target_filename': 'C:\\\\ProgramData\\\\Anaconda3\\\\lib\\\\site-packages\\\\sklearn\\\\datasets\\\\data\\\\diabetes_target.csv.gz'}"
      ]
     },
     "execution_count": 21,
     "metadata": {},
     "output_type": "execute_result"
    }
   ],
   "source": [
    "data"
   ]
  },
  {
   "cell_type": "code",
   "execution_count": 22,
   "id": "012d1120",
   "metadata": {},
   "outputs": [],
   "source": [
    "df = pd.DataFrame(data.data,columns=data.feature_names)"
   ]
  },
  {
   "cell_type": "code",
   "execution_count": 23,
   "id": "e2e89d22",
   "metadata": {},
   "outputs": [
    {
     "data": {
      "text/html": [
       "<div>\n",
       "<style scoped>\n",
       "    .dataframe tbody tr th:only-of-type {\n",
       "        vertical-align: middle;\n",
       "    }\n",
       "\n",
       "    .dataframe tbody tr th {\n",
       "        vertical-align: top;\n",
       "    }\n",
       "\n",
       "    .dataframe thead th {\n",
       "        text-align: right;\n",
       "    }\n",
       "</style>\n",
       "<table border=\"1\" class=\"dataframe\">\n",
       "  <thead>\n",
       "    <tr style=\"text-align: right;\">\n",
       "      <th></th>\n",
       "      <th>age</th>\n",
       "      <th>sex</th>\n",
       "      <th>bmi</th>\n",
       "      <th>bp</th>\n",
       "      <th>s1</th>\n",
       "      <th>s2</th>\n",
       "      <th>s3</th>\n",
       "      <th>s4</th>\n",
       "      <th>s5</th>\n",
       "      <th>s6</th>\n",
       "    </tr>\n",
       "  </thead>\n",
       "  <tbody>\n",
       "    <tr>\n",
       "      <th>0</th>\n",
       "      <td>0.038076</td>\n",
       "      <td>0.050680</td>\n",
       "      <td>0.061696</td>\n",
       "      <td>0.021872</td>\n",
       "      <td>-0.044223</td>\n",
       "      <td>-0.034821</td>\n",
       "      <td>-0.043401</td>\n",
       "      <td>-0.002592</td>\n",
       "      <td>0.019908</td>\n",
       "      <td>-0.017646</td>\n",
       "    </tr>\n",
       "    <tr>\n",
       "      <th>1</th>\n",
       "      <td>-0.001882</td>\n",
       "      <td>-0.044642</td>\n",
       "      <td>-0.051474</td>\n",
       "      <td>-0.026328</td>\n",
       "      <td>-0.008449</td>\n",
       "      <td>-0.019163</td>\n",
       "      <td>0.074412</td>\n",
       "      <td>-0.039493</td>\n",
       "      <td>-0.068330</td>\n",
       "      <td>-0.092204</td>\n",
       "    </tr>\n",
       "    <tr>\n",
       "      <th>2</th>\n",
       "      <td>0.085299</td>\n",
       "      <td>0.050680</td>\n",
       "      <td>0.044451</td>\n",
       "      <td>-0.005671</td>\n",
       "      <td>-0.045599</td>\n",
       "      <td>-0.034194</td>\n",
       "      <td>-0.032356</td>\n",
       "      <td>-0.002592</td>\n",
       "      <td>0.002864</td>\n",
       "      <td>-0.025930</td>\n",
       "    </tr>\n",
       "    <tr>\n",
       "      <th>3</th>\n",
       "      <td>-0.089063</td>\n",
       "      <td>-0.044642</td>\n",
       "      <td>-0.011595</td>\n",
       "      <td>-0.036656</td>\n",
       "      <td>0.012191</td>\n",
       "      <td>0.024991</td>\n",
       "      <td>-0.036038</td>\n",
       "      <td>0.034309</td>\n",
       "      <td>0.022692</td>\n",
       "      <td>-0.009362</td>\n",
       "    </tr>\n",
       "    <tr>\n",
       "      <th>4</th>\n",
       "      <td>0.005383</td>\n",
       "      <td>-0.044642</td>\n",
       "      <td>-0.036385</td>\n",
       "      <td>0.021872</td>\n",
       "      <td>0.003935</td>\n",
       "      <td>0.015596</td>\n",
       "      <td>0.008142</td>\n",
       "      <td>-0.002592</td>\n",
       "      <td>-0.031991</td>\n",
       "      <td>-0.046641</td>\n",
       "    </tr>\n",
       "    <tr>\n",
       "      <th>...</th>\n",
       "      <td>...</td>\n",
       "      <td>...</td>\n",
       "      <td>...</td>\n",
       "      <td>...</td>\n",
       "      <td>...</td>\n",
       "      <td>...</td>\n",
       "      <td>...</td>\n",
       "      <td>...</td>\n",
       "      <td>...</td>\n",
       "      <td>...</td>\n",
       "    </tr>\n",
       "    <tr>\n",
       "      <th>437</th>\n",
       "      <td>0.041708</td>\n",
       "      <td>0.050680</td>\n",
       "      <td>0.019662</td>\n",
       "      <td>0.059744</td>\n",
       "      <td>-0.005697</td>\n",
       "      <td>-0.002566</td>\n",
       "      <td>-0.028674</td>\n",
       "      <td>-0.002592</td>\n",
       "      <td>0.031193</td>\n",
       "      <td>0.007207</td>\n",
       "    </tr>\n",
       "    <tr>\n",
       "      <th>438</th>\n",
       "      <td>-0.005515</td>\n",
       "      <td>0.050680</td>\n",
       "      <td>-0.015906</td>\n",
       "      <td>-0.067642</td>\n",
       "      <td>0.049341</td>\n",
       "      <td>0.079165</td>\n",
       "      <td>-0.028674</td>\n",
       "      <td>0.034309</td>\n",
       "      <td>-0.018118</td>\n",
       "      <td>0.044485</td>\n",
       "    </tr>\n",
       "    <tr>\n",
       "      <th>439</th>\n",
       "      <td>0.041708</td>\n",
       "      <td>0.050680</td>\n",
       "      <td>-0.015906</td>\n",
       "      <td>0.017282</td>\n",
       "      <td>-0.037344</td>\n",
       "      <td>-0.013840</td>\n",
       "      <td>-0.024993</td>\n",
       "      <td>-0.011080</td>\n",
       "      <td>-0.046879</td>\n",
       "      <td>0.015491</td>\n",
       "    </tr>\n",
       "    <tr>\n",
       "      <th>440</th>\n",
       "      <td>-0.045472</td>\n",
       "      <td>-0.044642</td>\n",
       "      <td>0.039062</td>\n",
       "      <td>0.001215</td>\n",
       "      <td>0.016318</td>\n",
       "      <td>0.015283</td>\n",
       "      <td>-0.028674</td>\n",
       "      <td>0.026560</td>\n",
       "      <td>0.044528</td>\n",
       "      <td>-0.025930</td>\n",
       "    </tr>\n",
       "    <tr>\n",
       "      <th>441</th>\n",
       "      <td>-0.045472</td>\n",
       "      <td>-0.044642</td>\n",
       "      <td>-0.073030</td>\n",
       "      <td>-0.081414</td>\n",
       "      <td>0.083740</td>\n",
       "      <td>0.027809</td>\n",
       "      <td>0.173816</td>\n",
       "      <td>-0.039493</td>\n",
       "      <td>-0.004220</td>\n",
       "      <td>0.003064</td>\n",
       "    </tr>\n",
       "  </tbody>\n",
       "</table>\n",
       "<p>442 rows × 10 columns</p>\n",
       "</div>"
      ],
      "text/plain": [
       "          age       sex       bmi        bp        s1        s2        s3  \\\n",
       "0    0.038076  0.050680  0.061696  0.021872 -0.044223 -0.034821 -0.043401   \n",
       "1   -0.001882 -0.044642 -0.051474 -0.026328 -0.008449 -0.019163  0.074412   \n",
       "2    0.085299  0.050680  0.044451 -0.005671 -0.045599 -0.034194 -0.032356   \n",
       "3   -0.089063 -0.044642 -0.011595 -0.036656  0.012191  0.024991 -0.036038   \n",
       "4    0.005383 -0.044642 -0.036385  0.021872  0.003935  0.015596  0.008142   \n",
       "..        ...       ...       ...       ...       ...       ...       ...   \n",
       "437  0.041708  0.050680  0.019662  0.059744 -0.005697 -0.002566 -0.028674   \n",
       "438 -0.005515  0.050680 -0.015906 -0.067642  0.049341  0.079165 -0.028674   \n",
       "439  0.041708  0.050680 -0.015906  0.017282 -0.037344 -0.013840 -0.024993   \n",
       "440 -0.045472 -0.044642  0.039062  0.001215  0.016318  0.015283 -0.028674   \n",
       "441 -0.045472 -0.044642 -0.073030 -0.081414  0.083740  0.027809  0.173816   \n",
       "\n",
       "           s4        s5        s6  \n",
       "0   -0.002592  0.019908 -0.017646  \n",
       "1   -0.039493 -0.068330 -0.092204  \n",
       "2   -0.002592  0.002864 -0.025930  \n",
       "3    0.034309  0.022692 -0.009362  \n",
       "4   -0.002592 -0.031991 -0.046641  \n",
       "..        ...       ...       ...  \n",
       "437 -0.002592  0.031193  0.007207  \n",
       "438  0.034309 -0.018118  0.044485  \n",
       "439 -0.011080 -0.046879  0.015491  \n",
       "440  0.026560  0.044528 -0.025930  \n",
       "441 -0.039493 -0.004220  0.003064  \n",
       "\n",
       "[442 rows x 10 columns]"
      ]
     },
     "execution_count": 23,
     "metadata": {},
     "output_type": "execute_result"
    }
   ],
   "source": [
    "df"
   ]
  },
  {
   "cell_type": "code",
   "execution_count": 24,
   "id": "ad335c3e",
   "metadata": {},
   "outputs": [],
   "source": [
    "df['TARGET'] = data.target"
   ]
  },
  {
   "cell_type": "code",
   "execution_count": 25,
   "id": "b2c110b7",
   "metadata": {},
   "outputs": [
    {
     "data": {
      "text/html": [
       "<div>\n",
       "<style scoped>\n",
       "    .dataframe tbody tr th:only-of-type {\n",
       "        vertical-align: middle;\n",
       "    }\n",
       "\n",
       "    .dataframe tbody tr th {\n",
       "        vertical-align: top;\n",
       "    }\n",
       "\n",
       "    .dataframe thead th {\n",
       "        text-align: right;\n",
       "    }\n",
       "</style>\n",
       "<table border=\"1\" class=\"dataframe\">\n",
       "  <thead>\n",
       "    <tr style=\"text-align: right;\">\n",
       "      <th></th>\n",
       "      <th>age</th>\n",
       "      <th>sex</th>\n",
       "      <th>bmi</th>\n",
       "      <th>bp</th>\n",
       "      <th>s1</th>\n",
       "      <th>s2</th>\n",
       "      <th>s3</th>\n",
       "      <th>s4</th>\n",
       "      <th>s5</th>\n",
       "      <th>s6</th>\n",
       "      <th>TARGET</th>\n",
       "    </tr>\n",
       "  </thead>\n",
       "  <tbody>\n",
       "    <tr>\n",
       "      <th>0</th>\n",
       "      <td>0.038076</td>\n",
       "      <td>0.050680</td>\n",
       "      <td>0.061696</td>\n",
       "      <td>0.021872</td>\n",
       "      <td>-0.044223</td>\n",
       "      <td>-0.034821</td>\n",
       "      <td>-0.043401</td>\n",
       "      <td>-0.002592</td>\n",
       "      <td>0.019908</td>\n",
       "      <td>-0.017646</td>\n",
       "      <td>151.0</td>\n",
       "    </tr>\n",
       "    <tr>\n",
       "      <th>1</th>\n",
       "      <td>-0.001882</td>\n",
       "      <td>-0.044642</td>\n",
       "      <td>-0.051474</td>\n",
       "      <td>-0.026328</td>\n",
       "      <td>-0.008449</td>\n",
       "      <td>-0.019163</td>\n",
       "      <td>0.074412</td>\n",
       "      <td>-0.039493</td>\n",
       "      <td>-0.068330</td>\n",
       "      <td>-0.092204</td>\n",
       "      <td>75.0</td>\n",
       "    </tr>\n",
       "    <tr>\n",
       "      <th>2</th>\n",
       "      <td>0.085299</td>\n",
       "      <td>0.050680</td>\n",
       "      <td>0.044451</td>\n",
       "      <td>-0.005671</td>\n",
       "      <td>-0.045599</td>\n",
       "      <td>-0.034194</td>\n",
       "      <td>-0.032356</td>\n",
       "      <td>-0.002592</td>\n",
       "      <td>0.002864</td>\n",
       "      <td>-0.025930</td>\n",
       "      <td>141.0</td>\n",
       "    </tr>\n",
       "    <tr>\n",
       "      <th>3</th>\n",
       "      <td>-0.089063</td>\n",
       "      <td>-0.044642</td>\n",
       "      <td>-0.011595</td>\n",
       "      <td>-0.036656</td>\n",
       "      <td>0.012191</td>\n",
       "      <td>0.024991</td>\n",
       "      <td>-0.036038</td>\n",
       "      <td>0.034309</td>\n",
       "      <td>0.022692</td>\n",
       "      <td>-0.009362</td>\n",
       "      <td>206.0</td>\n",
       "    </tr>\n",
       "    <tr>\n",
       "      <th>4</th>\n",
       "      <td>0.005383</td>\n",
       "      <td>-0.044642</td>\n",
       "      <td>-0.036385</td>\n",
       "      <td>0.021872</td>\n",
       "      <td>0.003935</td>\n",
       "      <td>0.015596</td>\n",
       "      <td>0.008142</td>\n",
       "      <td>-0.002592</td>\n",
       "      <td>-0.031991</td>\n",
       "      <td>-0.046641</td>\n",
       "      <td>135.0</td>\n",
       "    </tr>\n",
       "    <tr>\n",
       "      <th>...</th>\n",
       "      <td>...</td>\n",
       "      <td>...</td>\n",
       "      <td>...</td>\n",
       "      <td>...</td>\n",
       "      <td>...</td>\n",
       "      <td>...</td>\n",
       "      <td>...</td>\n",
       "      <td>...</td>\n",
       "      <td>...</td>\n",
       "      <td>...</td>\n",
       "      <td>...</td>\n",
       "    </tr>\n",
       "    <tr>\n",
       "      <th>437</th>\n",
       "      <td>0.041708</td>\n",
       "      <td>0.050680</td>\n",
       "      <td>0.019662</td>\n",
       "      <td>0.059744</td>\n",
       "      <td>-0.005697</td>\n",
       "      <td>-0.002566</td>\n",
       "      <td>-0.028674</td>\n",
       "      <td>-0.002592</td>\n",
       "      <td>0.031193</td>\n",
       "      <td>0.007207</td>\n",
       "      <td>178.0</td>\n",
       "    </tr>\n",
       "    <tr>\n",
       "      <th>438</th>\n",
       "      <td>-0.005515</td>\n",
       "      <td>0.050680</td>\n",
       "      <td>-0.015906</td>\n",
       "      <td>-0.067642</td>\n",
       "      <td>0.049341</td>\n",
       "      <td>0.079165</td>\n",
       "      <td>-0.028674</td>\n",
       "      <td>0.034309</td>\n",
       "      <td>-0.018118</td>\n",
       "      <td>0.044485</td>\n",
       "      <td>104.0</td>\n",
       "    </tr>\n",
       "    <tr>\n",
       "      <th>439</th>\n",
       "      <td>0.041708</td>\n",
       "      <td>0.050680</td>\n",
       "      <td>-0.015906</td>\n",
       "      <td>0.017282</td>\n",
       "      <td>-0.037344</td>\n",
       "      <td>-0.013840</td>\n",
       "      <td>-0.024993</td>\n",
       "      <td>-0.011080</td>\n",
       "      <td>-0.046879</td>\n",
       "      <td>0.015491</td>\n",
       "      <td>132.0</td>\n",
       "    </tr>\n",
       "    <tr>\n",
       "      <th>440</th>\n",
       "      <td>-0.045472</td>\n",
       "      <td>-0.044642</td>\n",
       "      <td>0.039062</td>\n",
       "      <td>0.001215</td>\n",
       "      <td>0.016318</td>\n",
       "      <td>0.015283</td>\n",
       "      <td>-0.028674</td>\n",
       "      <td>0.026560</td>\n",
       "      <td>0.044528</td>\n",
       "      <td>-0.025930</td>\n",
       "      <td>220.0</td>\n",
       "    </tr>\n",
       "    <tr>\n",
       "      <th>441</th>\n",
       "      <td>-0.045472</td>\n",
       "      <td>-0.044642</td>\n",
       "      <td>-0.073030</td>\n",
       "      <td>-0.081414</td>\n",
       "      <td>0.083740</td>\n",
       "      <td>0.027809</td>\n",
       "      <td>0.173816</td>\n",
       "      <td>-0.039493</td>\n",
       "      <td>-0.004220</td>\n",
       "      <td>0.003064</td>\n",
       "      <td>57.0</td>\n",
       "    </tr>\n",
       "  </tbody>\n",
       "</table>\n",
       "<p>442 rows × 11 columns</p>\n",
       "</div>"
      ],
      "text/plain": [
       "          age       sex       bmi        bp        s1        s2        s3  \\\n",
       "0    0.038076  0.050680  0.061696  0.021872 -0.044223 -0.034821 -0.043401   \n",
       "1   -0.001882 -0.044642 -0.051474 -0.026328 -0.008449 -0.019163  0.074412   \n",
       "2    0.085299  0.050680  0.044451 -0.005671 -0.045599 -0.034194 -0.032356   \n",
       "3   -0.089063 -0.044642 -0.011595 -0.036656  0.012191  0.024991 -0.036038   \n",
       "4    0.005383 -0.044642 -0.036385  0.021872  0.003935  0.015596  0.008142   \n",
       "..        ...       ...       ...       ...       ...       ...       ...   \n",
       "437  0.041708  0.050680  0.019662  0.059744 -0.005697 -0.002566 -0.028674   \n",
       "438 -0.005515  0.050680 -0.015906 -0.067642  0.049341  0.079165 -0.028674   \n",
       "439  0.041708  0.050680 -0.015906  0.017282 -0.037344 -0.013840 -0.024993   \n",
       "440 -0.045472 -0.044642  0.039062  0.001215  0.016318  0.015283 -0.028674   \n",
       "441 -0.045472 -0.044642 -0.073030 -0.081414  0.083740  0.027809  0.173816   \n",
       "\n",
       "           s4        s5        s6  TARGET  \n",
       "0   -0.002592  0.019908 -0.017646   151.0  \n",
       "1   -0.039493 -0.068330 -0.092204    75.0  \n",
       "2   -0.002592  0.002864 -0.025930   141.0  \n",
       "3    0.034309  0.022692 -0.009362   206.0  \n",
       "4   -0.002592 -0.031991 -0.046641   135.0  \n",
       "..        ...       ...       ...     ...  \n",
       "437 -0.002592  0.031193  0.007207   178.0  \n",
       "438  0.034309 -0.018118  0.044485   104.0  \n",
       "439 -0.011080 -0.046879  0.015491   132.0  \n",
       "440  0.026560  0.044528 -0.025930   220.0  \n",
       "441 -0.039493 -0.004220  0.003064    57.0  \n",
       "\n",
       "[442 rows x 11 columns]"
      ]
     },
     "execution_count": 25,
     "metadata": {},
     "output_type": "execute_result"
    }
   ],
   "source": [
    "df"
   ]
  },
  {
   "cell_type": "code",
   "execution_count": 26,
   "id": "97fc127a",
   "metadata": {},
   "outputs": [
    {
     "data": {
      "text/plain": [
       "(442, 11)"
      ]
     },
     "execution_count": 26,
     "metadata": {},
     "output_type": "execute_result"
    }
   ],
   "source": [
    "df.shape"
   ]
  },
  {
   "cell_type": "code",
   "execution_count": 27,
   "id": "4fd7cb30",
   "metadata": {},
   "outputs": [],
   "source": [
    "from sklearn.model_selection import train_test_split"
   ]
  },
  {
   "cell_type": "code",
   "execution_count": 28,
   "id": "bd4d302d",
   "metadata": {},
   "outputs": [],
   "source": [
    "x_train,x_test,y_train,y_test = train_test_split(data.data,data.target,test_size=0.2,random_state=2)"
   ]
  },
  {
   "cell_type": "code",
   "execution_count": 29,
   "id": "16a92728",
   "metadata": {},
   "outputs": [
    {
     "data": {
      "text/plain": [
       "353"
      ]
     },
     "execution_count": 29,
     "metadata": {},
     "output_type": "execute_result"
    }
   ],
   "source": [
    "len(x_train)"
   ]
  },
  {
   "cell_type": "code",
   "execution_count": 30,
   "id": "a7fb8212",
   "metadata": {},
   "outputs": [],
   "source": [
    "from sklearn.linear_model import Ridge\n",
    "from sklearn.metrics import r2_score"
   ]
  },
  {
   "cell_type": "code",
   "execution_count": 31,
   "id": "40d2d754",
   "metadata": {},
   "outputs": [],
   "source": [
    "coefs = []\n",
    "r2_scores = []\n",
    "\n",
    "for i in [0,10,100,1000]:\n",
    "    reg = Ridge(alpha=i)\n",
    "    reg.fit(x_train,y_train)\n",
    "    \n",
    "    coefs.append(reg.coef_.tolist())\n",
    "    y_pred = reg.predict(x_test)\n",
    "    r2_scores.append(r2_score(y_test,y_pred))\n",
    "    "
   ]
  },
  {
   "cell_type": "code",
   "execution_count": 32,
   "id": "db20df9f",
   "metadata": {
    "scrolled": true
   },
   "outputs": [
    {
     "data": {
      "text/plain": [
       "[[-9.160884832463061,\n",
       "  -205.46225987708985,\n",
       "  516.684623831389,\n",
       "  340.6273410788926,\n",
       "  -895.5436086743563,\n",
       "  561.2145330558951,\n",
       "  153.88478595250416,\n",
       "  126.73431596154839,\n",
       "  861.1213995461823,\n",
       "  52.41982835857488],\n",
       " [21.17400371774996,\n",
       "  1.659796134738543,\n",
       "  63.659771901799736,\n",
       "  48.4932400316976,\n",
       "  18.421491990472827,\n",
       "  12.875448426495623,\n",
       "  -38.9154350572375,\n",
       "  38.842463722063044,\n",
       "  61.61240510619145,\n",
       "  35.50535526561315],\n",
       " [2.8589794382553477,\n",
       "  0.6294520371235355,\n",
       "  7.540604496094514,\n",
       "  5.8499966438735935,\n",
       "  2.7108785152669643,\n",
       "  2.142134389296116,\n",
       "  -4.83404696857779,\n",
       "  5.108223239548698,\n",
       "  7.4484662433551705,\n",
       "  4.576128672131118],\n",
       " [0.2957255603009537,\n",
       "  0.06929028636932703,\n",
       "  0.7690038061994643,\n",
       "  0.5978292887031441,\n",
       "  0.2828995133533437,\n",
       "  0.22593550596063292,\n",
       "  -0.4956069088303586,\n",
       "  0.5270313419211985,\n",
       "  0.7614974792951518,\n",
       "  0.4710290658232608]]"
      ]
     },
     "execution_count": 32,
     "metadata": {},
     "output_type": "execute_result"
    }
   ],
   "source": [
    "coefs"
   ]
  },
  {
   "cell_type": "code",
   "execution_count": 33,
   "id": "fceb151f",
   "metadata": {},
   "outputs": [
    {
     "data": {
      "text/plain": [
       "Text(0.5, 1.0, 'Alpha = 0, r2_score = 0.44')"
      ]
     },
     "execution_count": 33,
     "metadata": {},
     "output_type": "execute_result"
    },
    {
     "data": {
      "image/png": "[encoded data removed]",
      "text/plain": [
       "<Figure size 1008x648 with 1 Axes>"
      ]
     },
     "metadata": {
      "needs_background": "light"
     },
     "output_type": "display_data"
    }
   ],
   "source": [
    "plt.figure(figsize=(14,9))\n",
    "plt.subplot(221)\n",
    "plt.bar(data.feature_names,coefs[0])\n",
    "plt.title('Alpha = 0, r2_score = {}'.format(round(r2_scores[0],2)))"
   ]
  },
  {
   "cell_type": "code",
   "execution_count": 34,
   "id": "0236a37f",
   "metadata": {},
   "outputs": [
    {
     "data": {
      "text/plain": [
       "Text(0.5, 1.0, 'Alpha = 1000, r2_score = -0.01')"
      ]
     },
     "execution_count": 34,
     "metadata": {},
     "output_type": "execute_result"
    },
    {
     "data": {
      "image/png": "[encoded data removed]",
      "text/plain": [
       "<Figure size 1080x648 with 4 Axes>"
      ]
     },
     "metadata": {
      "needs_background": "light"
     },
     "output_type": "display_data"
    }
   ],
   "source": [
    "plt.figure(figsize=(15,9))\n",
    "plt.subplot(221)\n",
    "plt.bar(data.feature_names,coefs[0])\n",
    "plt.title('Alpha = 0, r2_score = {}'.format(round(r2_scores[0],2)))\n",
    "\n",
    "\n",
    "plt.subplot(222)\n",
    "plt.bar(data.feature_names,coefs[1])\n",
    "plt.title('Alpha = 10, r2_score = {}'.format(round(r2_scores[1],2)))\n",
    "\n",
    "\n",
    "plt.subplot(223)\n",
    "plt.bar(data.feature_names,coefs[2])\n",
    "plt.title('Alpha = 100, r2_score = {}'.format(round(r2_scores[2],2)))\n",
    "\n",
    "\n",
    "plt.subplot(224)\n",
    "plt.bar(data.feature_names,coefs[3])\n",
    "plt.title('Alpha = 1000, r2_score = {}'.format(round(r2_scores[3],2)))"
   ]
  },
  {
   "cell_type": "markdown",
   "id": "f3050911",
   "metadata": {},
   "source": [
    "# Aim : In Ridge regression prove that \"The more higher co-efficient are affected more\""
   ]
  },
  {
   "cell_type": "code",
   "execution_count": 35,
   "id": "a243ae65",
   "metadata": {},
   "outputs": [],
   "source": [
    "coefs = []\n",
    "alphas = [0,0.0001,0.001,0.01,0.1,1,10,100,1000,10000]\n",
    "for i in alphas:\n",
    "    reg = Ridge(alpha=i)\n",
    "    reg.fit(x_train,y_train)\n",
    "    coefs.append(reg.coef_.tolist())"
   ]
  },
  {
   "cell_type": "code",
   "execution_count": 36,
   "id": "d0fec765",
   "metadata": {},
   "outputs": [],
   "source": [
    "np_arr = np.array(coefs)"
   ]
  },
  {
   "cell_type": "code",
   "execution_count": 38,
   "id": "4cf50543",
   "metadata": {},
   "outputs": [
    {
     "data": {
      "text/html": [
       "<div>\n",
       "<style scoped>\n",
       "    .dataframe tbody tr th:only-of-type {\n",
       "        vertical-align: middle;\n",
       "    }\n",
       "\n",
       "    .dataframe tbody tr th {\n",
       "        vertical-align: top;\n",
       "    }\n",
       "\n",
       "    .dataframe thead th {\n",
       "        text-align: right;\n",
       "    }\n",
       "</style>\n",
       "<table border=\"1\" class=\"dataframe\">\n",
       "  <thead>\n",
       "    <tr style=\"text-align: right;\">\n",
       "      <th></th>\n",
       "      <th>age</th>\n",
       "      <th>sex</th>\n",
       "      <th>bmi</th>\n",
       "      <th>bp</th>\n",
       "      <th>s1</th>\n",
       "      <th>s2</th>\n",
       "      <th>s3</th>\n",
       "      <th>s4</th>\n",
       "      <th>s5</th>\n",
       "      <th>s6</th>\n",
       "    </tr>\n",
       "    <tr>\n",
       "      <th>alpha</th>\n",
       "      <th></th>\n",
       "      <th></th>\n",
       "      <th></th>\n",
       "      <th></th>\n",
       "      <th></th>\n",
       "      <th></th>\n",
       "      <th></th>\n",
       "      <th></th>\n",
       "      <th></th>\n",
       "      <th></th>\n",
       "    </tr>\n",
       "  </thead>\n",
       "  <tbody>\n",
       "    <tr>\n",
       "      <th>0.0000</th>\n",
       "      <td>-9.160885</td>\n",
       "      <td>-205.462260</td>\n",
       "      <td>516.684624</td>\n",
       "      <td>340.627341</td>\n",
       "      <td>-895.543609</td>\n",
       "      <td>561.214533</td>\n",
       "      <td>153.884786</td>\n",
       "      <td>126.734316</td>\n",
       "      <td>861.121400</td>\n",
       "      <td>52.419828</td>\n",
       "    </tr>\n",
       "    <tr>\n",
       "      <th>0.0001</th>\n",
       "      <td>-9.118336</td>\n",
       "      <td>-205.337133</td>\n",
       "      <td>516.880570</td>\n",
       "      <td>340.556792</td>\n",
       "      <td>-883.415291</td>\n",
       "      <td>551.553259</td>\n",
       "      <td>148.578680</td>\n",
       "      <td>125.355917</td>\n",
       "      <td>856.480254</td>\n",
       "      <td>52.467627</td>\n",
       "    </tr>\n",
       "    <tr>\n",
       "      <th>0.0010</th>\n",
       "      <td>-8.763583</td>\n",
       "      <td>-204.321125</td>\n",
       "      <td>518.371729</td>\n",
       "      <td>339.975385</td>\n",
       "      <td>-787.690766</td>\n",
       "      <td>475.274718</td>\n",
       "      <td>106.786540</td>\n",
       "      <td>114.632063</td>\n",
       "      <td>819.739542</td>\n",
       "      <td>52.872100</td>\n",
       "    </tr>\n",
       "    <tr>\n",
       "      <th>0.0100</th>\n",
       "      <td>-6.401088</td>\n",
       "      <td>-198.669767</td>\n",
       "      <td>522.048548</td>\n",
       "      <td>336.348363</td>\n",
       "      <td>-383.709187</td>\n",
       "      <td>152.663678</td>\n",
       "      <td>-66.060583</td>\n",
       "      <td>75.611090</td>\n",
       "      <td>659.869402</td>\n",
       "      <td>55.828128</td>\n",
       "    </tr>\n",
       "    <tr>\n",
       "      <th>0.1000</th>\n",
       "      <td>6.642753</td>\n",
       "      <td>-172.242166</td>\n",
       "      <td>485.523872</td>\n",
       "      <td>314.682122</td>\n",
       "      <td>-72.939323</td>\n",
       "      <td>-80.590053</td>\n",
       "      <td>-174.466515</td>\n",
       "      <td>83.616653</td>\n",
       "      <td>484.363285</td>\n",
       "      <td>73.584154</td>\n",
       "    </tr>\n",
       "    <tr>\n",
       "      <th>1.0000</th>\n",
       "      <td>42.242217</td>\n",
       "      <td>-57.305508</td>\n",
       "      <td>282.170831</td>\n",
       "      <td>198.061386</td>\n",
       "      <td>14.363544</td>\n",
       "      <td>-22.551274</td>\n",
       "      <td>-136.930053</td>\n",
       "      <td>102.023193</td>\n",
       "      <td>260.104308</td>\n",
       "      <td>98.552274</td>\n",
       "    </tr>\n",
       "    <tr>\n",
       "      <th>10.0000</th>\n",
       "      <td>21.174004</td>\n",
       "      <td>1.659796</td>\n",
       "      <td>63.659772</td>\n",
       "      <td>48.493240</td>\n",
       "      <td>18.421492</td>\n",
       "      <td>12.875448</td>\n",
       "      <td>-38.915435</td>\n",
       "      <td>38.842464</td>\n",
       "      <td>61.612405</td>\n",
       "      <td>35.505355</td>\n",
       "    </tr>\n",
       "    <tr>\n",
       "      <th>100.0000</th>\n",
       "      <td>2.858979</td>\n",
       "      <td>0.629452</td>\n",
       "      <td>7.540604</td>\n",
       "      <td>5.849997</td>\n",
       "      <td>2.710879</td>\n",
       "      <td>2.142134</td>\n",
       "      <td>-4.834047</td>\n",
       "      <td>5.108223</td>\n",
       "      <td>7.448466</td>\n",
       "      <td>4.576129</td>\n",
       "    </tr>\n",
       "    <tr>\n",
       "      <th>1000.0000</th>\n",
       "      <td>0.295726</td>\n",
       "      <td>0.069290</td>\n",
       "      <td>0.769004</td>\n",
       "      <td>0.597829</td>\n",
       "      <td>0.282900</td>\n",
       "      <td>0.225936</td>\n",
       "      <td>-0.495607</td>\n",
       "      <td>0.527031</td>\n",
       "      <td>0.761497</td>\n",
       "      <td>0.471029</td>\n",
       "    </tr>\n",
       "    <tr>\n",
       "      <th>10000.0000</th>\n",
       "      <td>0.029674</td>\n",
       "      <td>0.006995</td>\n",
       "      <td>0.077054</td>\n",
       "      <td>0.059915</td>\n",
       "      <td>0.028412</td>\n",
       "      <td>0.022715</td>\n",
       "      <td>-0.049686</td>\n",
       "      <td>0.052870</td>\n",
       "      <td>0.076321</td>\n",
       "      <td>0.047241</td>\n",
       "    </tr>\n",
       "  </tbody>\n",
       "</table>\n",
       "</div>"
      ],
      "text/plain": [
       "                  age         sex         bmi          bp          s1  \\\n",
       "alpha                                                                   \n",
       "0.0000      -9.160885 -205.462260  516.684624  340.627341 -895.543609   \n",
       "0.0001      -9.118336 -205.337133  516.880570  340.556792 -883.415291   \n",
       "0.0010      -8.763583 -204.321125  518.371729  339.975385 -787.690766   \n",
       "0.0100      -6.401088 -198.669767  522.048548  336.348363 -383.709187   \n",
       "0.1000       6.642753 -172.242166  485.523872  314.682122  -72.939323   \n",
       "1.0000      42.242217  -57.305508  282.170831  198.061386   14.363544   \n",
       "10.0000     21.174004    1.659796   63.659772   48.493240   18.421492   \n",
       "100.0000     2.858979    0.629452    7.540604    5.849997    2.710879   \n",
       "1000.0000    0.295726    0.069290    0.769004    0.597829    0.282900   \n",
       "10000.0000   0.029674    0.006995    0.077054    0.059915    0.028412   \n",
       "\n",
       "                    s2          s3          s4          s5         s6  \n",
       "alpha                                                                  \n",
       "0.0000      561.214533  153.884786  126.734316  861.121400  52.419828  \n",
       "0.0001      551.553259  148.578680  125.355917  856.480254  52.467627  \n",
       "0.0010      475.274718  106.786540  114.632063  819.739542  52.872100  \n",
       "0.0100      152.663678  -66.060583   75.611090  659.869402  55.828128  \n",
       "0.1000      -80.590053 -174.466515   83.616653  484.363285  73.584154  \n",
       "1.0000      -22.551274 -136.930053  102.023193  260.104308  98.552274  \n",
       "10.0000      12.875448  -38.915435   38.842464   61.612405  35.505355  \n",
       "100.0000      2.142134   -4.834047    5.108223    7.448466   4.576129  \n",
       "1000.0000     0.225936   -0.495607    0.527031    0.761497   0.471029  \n",
       "10000.0000    0.022715   -0.049686    0.052870    0.076321   0.047241  "
      ]
     },
     "execution_count": 38,
     "metadata": {},
     "output_type": "execute_result"
    }
   ],
   "source": [
    "coef_df = pd.DataFrame(np_arr,columns=data.feature_names)\n",
    "coef_df['alpha'] = alphas\n",
    "coef_df.set_index('alpha')"
   ]
  },
  {
   "cell_type": "code",
   "execution_count": null,
   "id": "fc9f8a0c",
   "metadata": {},
   "outputs": [],
   "source": []
  }
 ],
 "metadata": {
  "kernelspec": {
   "display_name": "Python 3 (ipykernel)",
   "language": "python",
   "name": "python3"
  },
  "language_info": {
   "codemirror_mode": {
    "name": "ipython",
    "version": 3
   },
   "file_extension": ".py",
   "mimetype": "text/x-python",
   "name": "python",
   "nbconvert_exporter": "python",
   "pygments_lexer": "ipython3",
   "version": "3.9.12"
  }
 },
 "nbformat": 4,
 "nbformat_minor": 5
}
