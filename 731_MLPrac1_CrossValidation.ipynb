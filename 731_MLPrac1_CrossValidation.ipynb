{
 "cells": [
  {
   "cell_type": "markdown",
   "id": "aca55412",
   "metadata": {},
   "source": [
    "# **Hold out cv method**"
   ]
  },
  {
   "cell_type": "code",
   "execution_count": 1,
   "id": "7ee39a2d",
   "metadata": {},
   "outputs": [],
   "source": [
    "import pandas as pd\n",
    "import numpy as np"
   ]
  },
  {
   "cell_type": "code",
   "execution_count": 2,
   "id": "620bb086",
   "metadata": {},
   "outputs": [],
   "source": [
    "X = [10,20,30,40,50,60,70,80,90,100]"
   ]
  },
  {
   "cell_type": "code",
   "execution_count": 3,
   "id": "89582ec0",
   "metadata": {},
   "outputs": [
    {
     "data": {
      "text/plain": [
       "[[100, 40, 90, 70, 30, 10, 50], [80, 60, 20]]"
      ]
     },
     "execution_count": 3,
     "metadata": {},
     "output_type": "execute_result"
    }
   ],
   "source": [
    "from sklearn.model_selection import train_test_split\n",
    "train_test_split(X,test_size=0.3,train_size=0.7)"
   ]
  },
  {
   "cell_type": "markdown",
   "id": "470373a1",
   "metadata": {},
   "source": [
    "# **LeaveOneOut method**"
   ]
  },
  {
   "cell_type": "code",
   "execution_count": 4,
   "id": "8941bd80",
   "metadata": {},
   "outputs": [],
   "source": [
    "from sklearn.model_selection import LeaveOneOut"
   ]
  },
  {
   "cell_type": "code",
   "execution_count": 5,
   "id": "4591c13d",
   "metadata": {},
   "outputs": [],
   "source": [
    "l = LeaveOneOut()"
   ]
  },
  {
   "cell_type": "code",
   "execution_count": 6,
   "id": "37273631",
   "metadata": {},
   "outputs": [
    {
     "name": "stdout",
     "output_type": "stream",
     "text": [
      "[1 2 3 4 5 6 7 8 9] [0]\n",
      "[0 2 3 4 5 6 7 8 9] [1]\n",
      "[0 1 3 4 5 6 7 8 9] [2]\n",
      "[0 1 2 4 5 6 7 8 9] [3]\n",
      "[0 1 2 3 5 6 7 8 9] [4]\n",
      "[0 1 2 3 4 6 7 8 9] [5]\n",
      "[0 1 2 3 4 5 7 8 9] [6]\n",
      "[0 1 2 3 4 5 6 8 9] [7]\n",
      "[0 1 2 3 4 5 6 7 9] [8]\n",
      "[0 1 2 3 4 5 6 7 8] [9]\n"
     ]
    }
   ],
   "source": [
    "for train, test in l.split(X):\n",
    "    print(train,test)"
   ]
  },
  {
   "cell_type": "markdown",
   "id": "9cfd54b6",
   "metadata": {},
   "source": [
    "# LeavePOut"
   ]
  },
  {
   "cell_type": "code",
   "execution_count": 7,
   "id": "409bc433",
   "metadata": {},
   "outputs": [],
   "source": [
    "from sklearn.model_selection import LeavePOut"
   ]
  },
  {
   "cell_type": "code",
   "execution_count": 8,
   "id": "0ca40583",
   "metadata": {},
   "outputs": [
    {
     "name": "stdout",
     "output_type": "stream",
     "text": [
      "Train :  [2 3] Test :  [0 1]\n",
      "Train :  [1 3] Test :  [0 2]\n",
      "Train :  [1 2] Test :  [0 3]\n",
      "Train :  [0 3] Test :  [1 2]\n",
      "Train :  [0 2] Test :  [1 3]\n",
      "Train :  [0 1] Test :  [2 3]\n"
     ]
    }
   ],
   "source": [
    "x=np.array([[1,2],[3,4],[5,6],[7,8]])\n",
    "y=np.array([1,2,3,4])\n",
    "l2 = LeavePOut(2)\n",
    "for train_index, test_index in l2.split(x):\n",
    "    print(\"Train : \",train_index, \"Test : \",test_index)\n",
    "    x_train,x_test=x[train_index],x[test_index]\n",
    "    y_train,y_test=y[train_index],y[test_index]\n"
   ]
  },
  {
   "cell_type": "markdown",
   "id": "d96e156b",
   "metadata": {},
   "source": [
    "# Kfold cv method"
   ]
  },
  {
   "cell_type": "code",
   "execution_count": 9,
   "id": "c840d50e",
   "metadata": {},
   "outputs": [
    {
     "name": "stdout",
     "output_type": "stream",
     "text": [
      "Train data  [2 3 4 5] Test data  [0 1]\n",
      "Train data  [0 1 4 5] Test data  [2 3]\n",
      "Train data  [0 1 2 3] Test data  [4 5]\n"
     ]
    }
   ],
   "source": [
    "from sklearn.model_selection import KFold\n",
    "x=['a','b','c','d','e','f']\n",
    "\n",
    "kf = KFold(n_splits=3, shuffle=False, random_state=None)\n",
    "\n",
    "for train, test in kf.split(x):\n",
    "    \n",
    "    print(\"Train data \",train, \"Test data \",test)"
   ]
  },
  {
   "cell_type": "markdown",
   "id": "651bdc35",
   "metadata": {},
   "source": [
    "# StratifiedKFold cv method"
   ]
  },
  {
   "cell_type": "code",
   "execution_count": 10,
   "id": "cf13b76f",
   "metadata": {},
   "outputs": [],
   "source": [
    "from sklearn.model_selection import StratifiedKFold\n",
    "s = StratifiedKFold(n_splits=3, shuffle=False, random_state=None)\n",
    "x=np.array([[1,2],[3,4],[5,6],[7,8],[9,10],[11,12]])\n",
    "y=np.array([1,0,1,0,0,1])"
   ]
  },
  {
   "cell_type": "code",
   "execution_count": 11,
   "id": "79582290",
   "metadata": {},
   "outputs": [
    {
     "name": "stdout",
     "output_type": "stream",
     "text": [
      "Train :  [2 3 4 5] Test :  [0 1]\n",
      "Train :  [0 1 4 5] Test :  [2 3]\n",
      "Train :  [0 1 2 3] Test :  [4 5]\n"
     ]
    }
   ],
   "source": [
    "for train_index, test_index in s.split(x,y):\n",
    "    print(\"Train : \",train_index, \"Test : \",test_index)\n",
    "    x_train,x_test=x[train_index],x[test_index]\n",
    "    y_train,y_test=y[train_index],y[test_index]"
   ]
  }
 ],
 "metadata": {
  "kernelspec": {
   "display_name": "Python 3 (ipykernel)",
   "language": "python",
   "name": "python3"
  },
  "language_info": {
   "codemirror_mode": {
    "name": "ipython",
    "version": 3
   },
   "file_extension": ".py",
   "mimetype": "text/x-python",
   "name": "python",
   "nbconvert_exporter": "python",
   "pygments_lexer": "ipython3",
   "version": "3.10.9"
  }
 },
 "nbformat": 4,
 "nbformat_minor": 5
}
